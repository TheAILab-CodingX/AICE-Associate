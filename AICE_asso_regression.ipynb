{
  "cells": [
    {
      "cell_type": "markdown",
      "metadata": {
        "id": "SsUNUDRmZXx_"
      },
      "source": [
        "# 지하철 이용객 수 예측\n",
        "\n",
        "호텔 예약 데이터를 읽어들여 데이터를 분석 및 전처리한 후 머신러닝과 딥러닝으로 호텔 예약 취소 여부를 예측하고 결과를 분석하세요."
      ]
    },
    {
      "cell_type": "markdown",
      "metadata": {},
      "source": [
        "### 비시각화 데이터 분석"
      ]
    },
    {
      "cell_type": "code",
      "execution_count": 1,
      "metadata": {
        "id": "xm_y09WFS0-2"
      },
      "outputs": [
        {
          "name": "stdout",
          "output_type": "stream",
          "text": [
            "   traffic_volume            date_time\n",
            "0            5545  2012-10-02 09:00:00\n",
            "1            4516  2012-10-02 10:00:00\n",
            "2            4767  2012-10-02 11:00:00\n",
            "   Unnamed: 0 holiday    temp  rain_1h  snow_1h  clouds_all weather_main  \\\n",
            "0           0    None  288.28      0.0      0.0          40       Clouds   \n",
            "1           1    None  289.36      0.0      0.0          75       Clouds   \n",
            "2           2    None  289.58      0.0      0.0          90       Clouds   \n",
            "\n",
            "  weather_description            date_time  year  month  day  hour  dayofweek  \\\n",
            "0    scattered clouds  2012-10-02 09:00:00  2012     10    2     9          1   \n",
            "1       broken clouds  2012-10-02 10:00:00  2012     10    2    10          1   \n",
            "2     overcast clouds  2012-10-02 11:00:00  2012     10    2    11          1   \n",
            "\n",
            "  is_weekend season  \n",
            "0          N   FALL  \n",
            "1          N   FALL  \n",
            "2          N   FALL  \n"
          ]
        }
      ],
      "source": [
        "import pandas as pd\n",
        "import matplotlib.pyplot as plt\n",
        "import seaborn as sns\n",
        "\n",
        "# 데이터 로드\n",
        "df_a = pd.read_csv(\"Metro_Traffic_Volume_Data.csv\")\n",
        "df_b = pd.read_csv(\"Days_Information_Data.csv\")\n",
        "\n",
        "# 데이터 살펴보기\n",
        "print(df_a.head(3))\n",
        "print(df_b.head(3))"
      ]
    },
    {
      "cell_type": "code",
      "execution_count": 2,
      "metadata": {},
      "outputs": [
        {
          "data": {
            "text/html": [
              "<div>\n",
              "<style scoped>\n",
              "    .dataframe tbody tr th:only-of-type {\n",
              "        vertical-align: middle;\n",
              "    }\n",
              "\n",
              "    .dataframe tbody tr th {\n",
              "        vertical-align: top;\n",
              "    }\n",
              "\n",
              "    .dataframe thead th {\n",
              "        text-align: right;\n",
              "    }\n",
              "</style>\n",
              "<table border=\"1\" class=\"dataframe\">\n",
              "  <thead>\n",
              "    <tr style=\"text-align: right;\">\n",
              "      <th></th>\n",
              "      <th>traffic_volume</th>\n",
              "      <th>date_time</th>\n",
              "    </tr>\n",
              "  </thead>\n",
              "  <tbody>\n",
              "    <tr>\n",
              "      <th>0</th>\n",
              "      <td>5545</td>\n",
              "      <td>2012-10-02 09:00:00</td>\n",
              "    </tr>\n",
              "    <tr>\n",
              "      <th>1</th>\n",
              "      <td>4516</td>\n",
              "      <td>2012-10-02 10:00:00</td>\n",
              "    </tr>\n",
              "    <tr>\n",
              "      <th>2</th>\n",
              "      <td>4767</td>\n",
              "      <td>2012-10-02 11:00:00</td>\n",
              "    </tr>\n",
              "  </tbody>\n",
              "</table>\n",
              "</div>"
            ],
            "text/plain": [
              "   traffic_volume            date_time\n",
              "0            5545  2012-10-02 09:00:00\n",
              "1            4516  2012-10-02 10:00:00\n",
              "2            4767  2012-10-02 11:00:00"
            ]
          },
          "execution_count": 2,
          "metadata": {},
          "output_type": "execute_result"
        }
      ],
      "source": [
        "# 데이터 살펴보기 : Metro_Traffic_Volume_Data.csv\n",
        "df_a.head(3)"
      ]
    },
    {
      "cell_type": "code",
      "execution_count": 3,
      "metadata": {},
      "outputs": [
        {
          "data": {
            "text/html": [
              "<div>\n",
              "<style scoped>\n",
              "    .dataframe tbody tr th:only-of-type {\n",
              "        vertical-align: middle;\n",
              "    }\n",
              "\n",
              "    .dataframe tbody tr th {\n",
              "        vertical-align: top;\n",
              "    }\n",
              "\n",
              "    .dataframe thead th {\n",
              "        text-align: right;\n",
              "    }\n",
              "</style>\n",
              "<table border=\"1\" class=\"dataframe\">\n",
              "  <thead>\n",
              "    <tr style=\"text-align: right;\">\n",
              "      <th></th>\n",
              "      <th>Unnamed: 0</th>\n",
              "      <th>holiday</th>\n",
              "      <th>temp</th>\n",
              "      <th>rain_1h</th>\n",
              "      <th>snow_1h</th>\n",
              "      <th>clouds_all</th>\n",
              "      <th>weather_main</th>\n",
              "      <th>weather_description</th>\n",
              "      <th>date_time</th>\n",
              "      <th>year</th>\n",
              "      <th>month</th>\n",
              "      <th>day</th>\n",
              "      <th>hour</th>\n",
              "      <th>dayofweek</th>\n",
              "      <th>is_weekend</th>\n",
              "      <th>season</th>\n",
              "    </tr>\n",
              "  </thead>\n",
              "  <tbody>\n",
              "    <tr>\n",
              "      <th>0</th>\n",
              "      <td>0</td>\n",
              "      <td>None</td>\n",
              "      <td>288.28</td>\n",
              "      <td>0.0</td>\n",
              "      <td>0.0</td>\n",
              "      <td>40</td>\n",
              "      <td>Clouds</td>\n",
              "      <td>scattered clouds</td>\n",
              "      <td>2012-10-02 09:00:00</td>\n",
              "      <td>2012</td>\n",
              "      <td>10</td>\n",
              "      <td>2</td>\n",
              "      <td>9</td>\n",
              "      <td>1</td>\n",
              "      <td>N</td>\n",
              "      <td>FALL</td>\n",
              "    </tr>\n",
              "    <tr>\n",
              "      <th>1</th>\n",
              "      <td>1</td>\n",
              "      <td>None</td>\n",
              "      <td>289.36</td>\n",
              "      <td>0.0</td>\n",
              "      <td>0.0</td>\n",
              "      <td>75</td>\n",
              "      <td>Clouds</td>\n",
              "      <td>broken clouds</td>\n",
              "      <td>2012-10-02 10:00:00</td>\n",
              "      <td>2012</td>\n",
              "      <td>10</td>\n",
              "      <td>2</td>\n",
              "      <td>10</td>\n",
              "      <td>1</td>\n",
              "      <td>N</td>\n",
              "      <td>FALL</td>\n",
              "    </tr>\n",
              "    <tr>\n",
              "      <th>2</th>\n",
              "      <td>2</td>\n",
              "      <td>None</td>\n",
              "      <td>289.58</td>\n",
              "      <td>0.0</td>\n",
              "      <td>0.0</td>\n",
              "      <td>90</td>\n",
              "      <td>Clouds</td>\n",
              "      <td>overcast clouds</td>\n",
              "      <td>2012-10-02 11:00:00</td>\n",
              "      <td>2012</td>\n",
              "      <td>10</td>\n",
              "      <td>2</td>\n",
              "      <td>11</td>\n",
              "      <td>1</td>\n",
              "      <td>N</td>\n",
              "      <td>FALL</td>\n",
              "    </tr>\n",
              "  </tbody>\n",
              "</table>\n",
              "</div>"
            ],
            "text/plain": [
              "   Unnamed: 0 holiday    temp  rain_1h  snow_1h  clouds_all weather_main  \\\n",
              "0           0    None  288.28      0.0      0.0          40       Clouds   \n",
              "1           1    None  289.36      0.0      0.0          75       Clouds   \n",
              "2           2    None  289.58      0.0      0.0          90       Clouds   \n",
              "\n",
              "  weather_description            date_time  year  month  day  hour  dayofweek  \\\n",
              "0    scattered clouds  2012-10-02 09:00:00  2012     10    2     9          1   \n",
              "1       broken clouds  2012-10-02 10:00:00  2012     10    2    10          1   \n",
              "2     overcast clouds  2012-10-02 11:00:00  2012     10    2    11          1   \n",
              "\n",
              "  is_weekend season  \n",
              "0          N   FALL  \n",
              "1          N   FALL  \n",
              "2          N   FALL  "
            ]
          },
          "execution_count": 3,
          "metadata": {},
          "output_type": "execute_result"
        }
      ],
      "source": [
        "# 데이터 살펴보기 : Days_Information_Data.csv\n",
        "df_b.head(3)"
      ]
    },
    {
      "cell_type": "code",
      "execution_count": 4,
      "metadata": {
        "colab": {
          "base_uri": "https://localhost:8080/"
        },
        "id": "cjBNYx-NZj9k",
        "outputId": "786cac7e-a9be-4492-9c9b-428436226096"
      },
      "outputs": [
        {
          "name": "stdout",
          "output_type": "stream",
          "text": [
            "7629\n"
          ]
        },
        {
          "data": {
            "text/html": [
              "<div>\n",
              "<style scoped>\n",
              "    .dataframe tbody tr th:only-of-type {\n",
              "        vertical-align: middle;\n",
              "    }\n",
              "\n",
              "    .dataframe tbody tr th {\n",
              "        vertical-align: top;\n",
              "    }\n",
              "\n",
              "    .dataframe thead th {\n",
              "        text-align: right;\n",
              "    }\n",
              "</style>\n",
              "<table border=\"1\" class=\"dataframe\">\n",
              "  <thead>\n",
              "    <tr style=\"text-align: right;\">\n",
              "      <th></th>\n",
              "      <th>traffic_volume</th>\n",
              "      <th>date_time</th>\n",
              "      <th>Unnamed: 0</th>\n",
              "      <th>holiday</th>\n",
              "      <th>temp</th>\n",
              "      <th>rain_1h</th>\n",
              "      <th>snow_1h</th>\n",
              "      <th>clouds_all</th>\n",
              "      <th>weather_main</th>\n",
              "      <th>weather_description</th>\n",
              "      <th>year</th>\n",
              "      <th>month</th>\n",
              "      <th>day</th>\n",
              "      <th>hour</th>\n",
              "      <th>dayofweek</th>\n",
              "      <th>is_weekend</th>\n",
              "      <th>season</th>\n",
              "    </tr>\n",
              "  </thead>\n",
              "  <tbody>\n",
              "    <tr>\n",
              "      <th>0</th>\n",
              "      <td>5545</td>\n",
              "      <td>2012-10-02 09:00:00</td>\n",
              "      <td>0</td>\n",
              "      <td>None</td>\n",
              "      <td>288.28</td>\n",
              "      <td>0.0</td>\n",
              "      <td>0.0</td>\n",
              "      <td>40</td>\n",
              "      <td>Clouds</td>\n",
              "      <td>scattered clouds</td>\n",
              "      <td>2012</td>\n",
              "      <td>10</td>\n",
              "      <td>2</td>\n",
              "      <td>9</td>\n",
              "      <td>1</td>\n",
              "      <td>N</td>\n",
              "      <td>FALL</td>\n",
              "    </tr>\n",
              "    <tr>\n",
              "      <th>1</th>\n",
              "      <td>4516</td>\n",
              "      <td>2012-10-02 10:00:00</td>\n",
              "      <td>1</td>\n",
              "      <td>None</td>\n",
              "      <td>289.36</td>\n",
              "      <td>0.0</td>\n",
              "      <td>0.0</td>\n",
              "      <td>75</td>\n",
              "      <td>Clouds</td>\n",
              "      <td>broken clouds</td>\n",
              "      <td>2012</td>\n",
              "      <td>10</td>\n",
              "      <td>2</td>\n",
              "      <td>10</td>\n",
              "      <td>1</td>\n",
              "      <td>N</td>\n",
              "      <td>FALL</td>\n",
              "    </tr>\n",
              "    <tr>\n",
              "      <th>2</th>\n",
              "      <td>4767</td>\n",
              "      <td>2012-10-02 11:00:00</td>\n",
              "      <td>2</td>\n",
              "      <td>None</td>\n",
              "      <td>289.58</td>\n",
              "      <td>0.0</td>\n",
              "      <td>0.0</td>\n",
              "      <td>90</td>\n",
              "      <td>Clouds</td>\n",
              "      <td>overcast clouds</td>\n",
              "      <td>2012</td>\n",
              "      <td>10</td>\n",
              "      <td>2</td>\n",
              "      <td>11</td>\n",
              "      <td>1</td>\n",
              "      <td>N</td>\n",
              "      <td>FALL</td>\n",
              "    </tr>\n",
              "  </tbody>\n",
              "</table>\n",
              "</div>"
            ],
            "text/plain": [
              "   traffic_volume            date_time  Unnamed: 0 holiday    temp  rain_1h  \\\n",
              "0            5545  2012-10-02 09:00:00           0    None  288.28      0.0   \n",
              "1            4516  2012-10-02 10:00:00           1    None  289.36      0.0   \n",
              "2            4767  2012-10-02 11:00:00           2    None  289.58      0.0   \n",
              "\n",
              "   snow_1h  clouds_all weather_main weather_description  year  month  day  \\\n",
              "0      0.0          40       Clouds    scattered clouds  2012     10    2   \n",
              "1      0.0          75       Clouds       broken clouds  2012     10    2   \n",
              "2      0.0          90       Clouds     overcast clouds  2012     10    2   \n",
              "\n",
              "   hour  dayofweek is_weekend season  \n",
              "0     9          1          N   FALL  \n",
              "1    10          1          N   FALL  \n",
              "2    11          1          N   FALL  "
            ]
          },
          "execution_count": 4,
          "metadata": {},
          "output_type": "execute_result"
        }
      ],
      "source": [
        "# 중복값 확인\n",
        "dup_a = df_a.duplicated().sum()\n",
        "dup_b = df_b.duplicated().sum()\n",
        "print(dup_a + dup_b)\n",
        "\n",
        "# 중복값 처리\n",
        "df_a.drop_duplicates(inplace=True)\n",
        "df_b.drop_duplicates(inplace=True)\n",
        "\n",
        "# 데이터프레임 병합\n",
        "df = pd.merge(df_a, df_b, on='date_time', how='inner')\n",
        "\n",
        "# 병합된 데이터 살펴보기\n",
        "df.head(3)"
      ]
    },
    {
      "cell_type": "code",
      "execution_count": 5,
      "metadata": {},
      "outputs": [
        {
          "name": "stdout",
          "output_type": "stream",
          "text": [
            "<class 'pandas.core.frame.DataFrame'>\n",
            "Int64Index: 48204 entries, 0 to 48203\n",
            "Data columns (total 17 columns):\n",
            " #   Column               Non-Null Count  Dtype  \n",
            "---  ------               --------------  -----  \n",
            " 0   traffic_volume       48204 non-null  int64  \n",
            " 1   date_time            48204 non-null  object \n",
            " 2   Unnamed: 0           48204 non-null  int64  \n",
            " 3   holiday              48204 non-null  object \n",
            " 4   temp                 48204 non-null  float64\n",
            " 5   rain_1h              48204 non-null  float64\n",
            " 6   snow_1h              48042 non-null  float64\n",
            " 7   clouds_all           48204 non-null  int64  \n",
            " 8   weather_main         48204 non-null  object \n",
            " 9   weather_description  47104 non-null  object \n",
            " 10  year                 48204 non-null  int64  \n",
            " 11  month                48204 non-null  int64  \n",
            " 12  day                  48204 non-null  int64  \n",
            " 13  hour                 48204 non-null  int64  \n",
            " 14  dayofweek            48204 non-null  int64  \n",
            " 15  is_weekend           48204 non-null  object \n",
            " 16  season               48204 non-null  object \n",
            "dtypes: float64(3), int64(8), object(6)\n",
            "memory usage: 6.6+ MB\n",
            "None\n",
            "(48204, 17)\n"
          ]
        }
      ],
      "source": [
        "# 데이터 구조 확인\n",
        "print(df.info()) \n",
        "print(df.shape)"
      ]
    },
    {
      "cell_type": "code",
      "execution_count": 6,
      "metadata": {},
      "outputs": [
        {
          "name": "stdout",
          "output_type": "stream",
          "text": [
            "       traffic_volume    Unnamed: 0          temp       rain_1h       snow_1h  \\\n",
            "count    48204.000000  48204.000000  48204.000000  48204.000000  48042.000000   \n",
            "mean      3259.818355  24101.500000    281.264207      0.334264      0.000223   \n",
            "std       1986.860670  13915.440525     12.708268     44.789133      0.008181   \n",
            "min          0.000000      0.000000    243.390000      0.000000      0.000000   \n",
            "25%       1193.000000  12050.750000    272.190000      0.000000      0.000000   \n",
            "50%       3380.000000  24101.500000    282.450000      0.000000      0.000000   \n",
            "75%       4933.000000  36152.250000    291.806000      0.000000      0.000000   \n",
            "max       7280.000000  48203.000000    310.070000   9831.300000      0.510000   \n",
            "\n",
            "         clouds_all          year         month           day          hour  \\\n",
            "count  48204.000000  48204.000000  48204.000000  48204.000000  48204.000000   \n",
            "mean      49.362231   2015.512426      6.506037     15.737636     11.398162   \n",
            "std       39.015750      1.893211      3.400221      8.722938      6.940238   \n",
            "min        0.000000   2012.000000      1.000000      1.000000      0.000000   \n",
            "25%        1.000000   2014.000000      4.000000      8.000000      5.000000   \n",
            "50%       64.000000   2016.000000      7.000000     16.000000     11.000000   \n",
            "75%       90.000000   2017.000000      9.000000     23.000000     17.000000   \n",
            "max      100.000000   2018.000000     12.000000     31.000000     23.000000   \n",
            "\n",
            "          dayofweek  \n",
            "count  48204.000000  \n",
            "mean       2.984980  \n",
            "std        2.005941  \n",
            "min        0.000000  \n",
            "25%        1.000000  \n",
            "50%        3.000000  \n",
            "75%        5.000000  \n",
            "max        6.000000  \n"
          ]
        }
      ],
      "source": [
        "# 데이터 요약(통계) 확인\n",
        "print(df.describe()) "
      ]
    },
    {
      "cell_type": "code",
      "execution_count": 7,
      "metadata": {},
      "outputs": [
        {
          "name": "stdout",
          "output_type": "stream",
          "text": [
            "traffic_volume            0\n",
            "date_time                 0\n",
            "Unnamed: 0                0\n",
            "holiday                   0\n",
            "temp                      0\n",
            "rain_1h                   0\n",
            "snow_1h                 162\n",
            "clouds_all                0\n",
            "weather_main              0\n",
            "weather_description    1100\n",
            "year                      0\n",
            "month                     0\n",
            "day                       0\n",
            "hour                      0\n",
            "dayofweek                 0\n",
            "is_weekend                0\n",
            "season                    0\n",
            "dtype: int64\n"
          ]
        }
      ],
      "source": [
        "# 결측치 탐색\n",
        "print(df.isnull().sum()) "
      ]
    },
    {
      "cell_type": "code",
      "execution_count": 8,
      "metadata": {},
      "outputs": [
        {
          "name": "stdout",
          "output_type": "stream",
          "text": [
            "0        None\n",
            "1        None\n",
            "2        None\n",
            "3        None\n",
            "4        None\n",
            "         ... \n",
            "48199    None\n",
            "48200    None\n",
            "48201    None\n",
            "48202    None\n",
            "48203    None\n",
            "Name: holiday, Length: 48204, dtype: object\n",
            "None                         46795\n",
            "Labor Day                      157\n",
            "Washingtons Birthday           136\n",
            "Thanksgiving Day               135\n",
            "Memorial Day                   134\n",
            "Christmas Day                  131\n",
            "New Years Day                  131\n",
            "Independence Day               126\n",
            "Veterans Day                   120\n",
            "State Fair                     120\n",
            "Columbus Day                   112\n",
            "Martin Luther King Jr Day      107\n",
            "Name: holiday, dtype: int64\n"
          ]
        }
      ],
      "source": [
        "# holiday 컬럼값 및 분포 확인\n",
        "print(df['holiday'])\n",
        "print(df['holiday'].value_counts())"
      ]
    },
    {
      "cell_type": "markdown",
      "metadata": {},
      "source": [
        "### 시각화 데이터 분석"
      ]
    },
    {
      "cell_type": "code",
      "execution_count": 9,
      "metadata": {},
      "outputs": [],
      "source": [
        "import matplotlib.pyplot as plt\n",
        "import matplotlib.font_manager as fm\n",
        "plt.rc(\"font\", family=\"NanumGothicCoding\")"
      ]
    },
    {
      "cell_type": "code",
      "execution_count": 10,
      "metadata": {},
      "outputs": [
        {
          "data": {
            "image/png": "[encoded data removed]",
            "text/plain": [
              "<Figure size 432x288 with 1 Axes>"
            ]
          },
          "metadata": {
            "needs_background": "light"
          },
          "output_type": "display_data"
        }
      ],
      "source": [
        "# 히스토그램 : 교통량(타겟변수) 분포 확인\n",
        "sns.histplot(df['traffic_volume'], kde=True, bins=30, color='blue')\n",
        "plt.title('Traffic Volume(교통량) 분포')\n",
        "plt.xlabel('Traffic Volume(교통량)')\n",
        "plt.ylabel('Count')\n",
        "plt.show()\n"
      ]
    },
    {
      "cell_type": "code",
      "execution_count": 11,
      "metadata": {},
      "outputs": [
        {
          "data": {
            "image/png": "[encoded data removed]",
            "text/plain": [
              "<Figure size 432x288 with 1 Axes>"
            ]
          },
          "metadata": {
            "needs_background": "light"
          },
          "output_type": "display_data"
        }
      ],
      "source": [
        "# 박스플롯 : 계절별 교통량 분포 확인\n",
        "sns.boxplot(x='season', y='traffic_volume', data=df, palette='pastel')\n",
        "plt.title('계절별 Traffic Volume(교통량) 분포')\n",
        "plt.xlabel('계절')\n",
        "plt.ylabel('Traffic Volume(교통량)')\n",
        "plt.show()\n"
      ]
    },
    {
      "cell_type": "code",
      "execution_count": 12,
      "metadata": {},
      "outputs": [
        {
          "data": {
            "image/png": "[encoded data removed]",
            "text/plain": [
              "<Figure size 432x288 with 1 Axes>"
            ]
          },
          "metadata": {
            "needs_background": "light"
          },
          "output_type": "display_data"
        }
      ],
      "source": [
        "# 박스플롯 : 날씨 상태에 따른 교통량 분포 확인\n",
        "sns.boxplot(x='weather_main', y='traffic_volume', data=df, palette='Set3')\n",
        "plt.title('날씨별 Traffic Volume(교통량)')\n",
        "plt.xlabel('Weather(날씨)')\n",
        "plt.ylabel('Traffic Volume(교통량)')\n",
        "plt.xticks(rotation=45)\n",
        "plt.show()\n"
      ]
    },
    {
      "cell_type": "code",
      "execution_count": 13,
      "metadata": {},
      "outputs": [
        {
          "data": {
            "image/png": "[encoded data removed]",
            "text/plain": [
              "<Figure size 432x288 with 1 Axes>"
            ]
          },
          "metadata": {
            "needs_background": "light"
          },
          "output_type": "display_data"
        }
      ],
      "source": [
        "# 선그래프 : 시간별 평균 교통량 시각화\n",
        "hourly_traffic = df.groupby('hour')['traffic_volume'].mean()\n",
        "\n",
        "sns.lineplot(x=hourly_traffic.index, y=hourly_traffic.values, marker='o')\n",
        "plt.title('시간별 Traffic Volume(교통량) 평균')\n",
        "plt.xlabel('시간')\n",
        "plt.ylabel('Traffic Volume(교통량)')\n",
        "plt.xticks(range(0, 24))\n",
        "plt.grid(True)\n",
        "plt.show()\n"
      ]
    },
    {
      "cell_type": "code",
      "execution_count": 14,
      "metadata": {},
      "outputs": [
        {
          "data": {
            "image/png": "[encoded data removed]",
            "text/plain": [
              "<Figure size 432x288 with 1 Axes>"
            ]
          },
          "metadata": {
            "needs_background": "light"
          },
          "output_type": "display_data"
        }
      ],
      "source": [
        "# 막대 그래프 : 요일별 평균 교통량 시각화\n",
        "weekday_traffic = df.groupby('dayofweek')['traffic_volume'].mean()\n",
        "\n",
        "sns.barplot(x=weekday_traffic.index, y=weekday_traffic.values, \\\n",
        "                                                    palette='viridis')\n",
        "plt.title('요일별 Traffic Volume(교통량) 평균')\n",
        "plt.xlabel('요일')\n",
        "plt.ylabel('Traffic Volume(교통량)')\n",
        "plt.show()\n"
      ]
    },
    {
      "cell_type": "code",
      "execution_count": 15,
      "metadata": {},
      "outputs": [
        {
          "data": {
            "image/png": "[encoded data removed]",
            "text/plain": [
              "<Figure size 432x288 with 1 Axes>"
            ]
          },
          "metadata": {
            "needs_background": "light"
          },
          "output_type": "display_data"
        }
      ],
      "source": [
        "# 카운트플롯 : holiday 컬럼 분포 확인\n",
        "sns.countplot(data=df, x='holiday')\n",
        "plt.title('holiday')\n",
        "plt.xlabel('count')\n",
        "plt.ylabel('holiday')\n",
        "plt.xticks(rotation=45)\n",
        "plt.show()"
      ]
    },
    {
      "cell_type": "code",
      "execution_count": 16,
      "metadata": {},
      "outputs": [
        {
          "data": {
            "image/png": "[encoded data removed]",
            "text/plain": [
              "<Figure size 432x288 with 1 Axes>"
            ]
          },
          "metadata": {
            "needs_background": "light"
          },
          "output_type": "display_data"
        }
      ],
      "source": [
        "# 산점도 : 온도와 교통량 사이의 관계 시각화\n",
        "sns.scatterplot(x='temp', y='traffic_volume', data=df, hue='season', \\\n",
        "                                                        palette='cool')\n",
        "plt.title('Traffic Volume(교통량) vs Temperature(온도)')\n",
        "plt.xlabel('Temperature(온도)')\n",
        "plt.ylabel('Traffic Volume(교통량)')\n",
        "plt.show()\n"
      ]
    },
    {
      "cell_type": "code",
      "execution_count": 17,
      "metadata": {
        "colab": {
          "base_uri": "https://localhost:8080/",
          "height": 1000
        },
        "id": "D5qsDnr2Z9i_",
        "outputId": "28604576-1873-4a37-854c-60cef36b4972"
      },
      "outputs": [
        {
          "data": {
            "image/png": "[encoded data removed]",
            "text/plain": [
              "<Figure size 432x288 with 2 Axes>"
            ]
          },
          "metadata": {
            "needs_background": "light"
          },
          "output_type": "display_data"
        },
        {
          "name": "stdout",
          "output_type": "stream",
          "text": [
            "                traffic_volume  Unnamed: 0      temp   rain_1h   snow_1h  \\\n",
            "traffic_volume        1.000000    0.006873  0.132272  0.004714  0.000619   \n",
            "Unnamed: 0            0.006873    1.000000  0.163855 -0.000410 -0.007460   \n",
            "temp                  0.132272    0.163855  1.000000  0.009484 -0.020816   \n",
            "rain_1h               0.004714   -0.000410  0.009484  1.000000 -0.000090   \n",
            "snow_1h               0.000619   -0.007460 -0.020816 -0.000090  1.000000   \n",
            "clouds_all            0.067054   -0.070616 -0.112839  0.004818  0.027946   \n",
            "year                  0.004753    0.976919  0.137967  0.000442 -0.003514   \n",
            "month                -0.002533   -0.022473  0.228205  0.001298  0.020399   \n",
            "day                  -0.007587    0.024668  0.022912 -0.002294  0.015817   \n",
            "hour                  0.352401   -0.005537  0.113479  0.003421  0.009770   \n",
            "dayofweek            -0.149544   -0.009331 -0.003021 -0.006920 -0.014950   \n",
            "\n",
            "                clouds_all      year     month       day      hour  dayofweek  \n",
            "traffic_volume    0.067054  0.004753 -0.002533 -0.007587  0.352401  -0.149544  \n",
            "Unnamed: 0       -0.070616  0.976919 -0.022473  0.024668 -0.005537  -0.009331  \n",
            "temp             -0.112839  0.137967  0.228205  0.022912  0.113479  -0.003021  \n",
            "rain_1h           0.004818  0.000442  0.001298 -0.002294  0.003421  -0.006920  \n",
            "snow_1h           0.027946 -0.003514  0.020399  0.015817  0.009770  -0.014950  \n",
            "clouds_all        1.000000 -0.072861 -0.009133  0.048112  0.054418  -0.039715  \n",
            "year             -0.072861  1.000000 -0.158688  0.012192 -0.007542  -0.012313  \n",
            "month            -0.009133 -0.158688  1.000000  0.008614  0.001865   0.010741  \n",
            "day               0.048112  0.012192  0.008614  1.000000 -0.009373   0.008678  \n",
            "hour              0.054418 -0.007542  0.001865 -0.009373  1.000000  -0.003858  \n",
            "dayofweek        -0.039715 -0.012313  0.010741  0.008678 -0.003858   1.000000  \n"
          ]
        }
      ],
      "source": [
        "# 히트맵 : 수치형 변수들 간의 상관관계를 시각화\n",
        "sns.heatmap(df.corr())\n",
        "plt.title('각 컬럼 간 상관관계 히트맵')\n",
        "plt.show()\n",
        "print(df.corr())"
      ]
    },
    {
      "cell_type": "markdown",
      "metadata": {},
      "source": [
        "### 데이터 전처리"
      ]
    },
    {
      "cell_type": "code",
      "execution_count": 18,
      "metadata": {},
      "outputs": [
        {
          "name": "stdout",
          "output_type": "stream",
          "text": [
            "파생변수 생성 후 데이터 크기: (48204, 18)\n"
          ]
        },
        {
          "name": "stderr",
          "output_type": "stream",
          "text": [
            "/home/iknow/anaconda3/envs/tf-gpu-cuda8/lib/python3.7/site-packages/ipykernel_launcher.py:8: SettingWithCopyWarning: \n",
            "A value is trying to be set on a copy of a slice from a DataFrame\n",
            "\n",
            "See the caveats in the documentation: https://pandas.pydata.org/pandas-docs/stable/user_guide/indexing.html#returning-a-view-versus-a-copy\n",
            "  \n"
          ]
        }
      ],
      "source": [
        "# 파생변수 생성\n",
        "df_temp = df.copy()\n",
        "\n",
        "idx_holiday = df_temp['holiday'][df_temp['holiday']=='None'].index\n",
        "\n",
        "# None인 경우에 Y, 아닌 경우에 N\n",
        "df_temp[\"is_holyday\"] = \"N\"\n",
        "df_temp[\"is_holyday\"][idx_holiday] = \"Y\"\n",
        "\n",
        "# 결과 확인\n",
        "print(f\"파생변수 생성 후 데이터 크기: {df_temp.shape}\")"
      ]
    },
    {
      "cell_type": "code",
      "execution_count": 19,
      "metadata": {
        "id": "7Uty8t0VaSO-"
      },
      "outputs": [
        {
          "name": "stdout",
          "output_type": "stream",
          "text": [
            "불필요한 변수 제거 후 데이터 크기: (48204, 14)\n"
          ]
        }
      ],
      "source": [
        "# 불필요한 열 제거\n",
        "df_del = df_temp.drop([\"Unnamed: 0\", \"date_time\", \\\n",
        "                           \"weather_description\", \"holiday\"], axis=1)\n",
        "\n",
        "# 결과 확인\n",
        "print(f\"불필요한 변수 제거 후 데이터 크기: {df_del.shape}\")"
      ]
    },
    {
      "cell_type": "code",
      "execution_count": 20,
      "metadata": {
        "colab": {
          "base_uri": "https://localhost:8080/"
        },
        "id": "HHmllckPaS0T",
        "outputId": "82140b23-ca76-491f-dc30-6e68a7b18c70"
      },
      "outputs": [
        {
          "name": "stdout",
          "output_type": "stream",
          "text": [
            "결측값 확인:\n",
            "traffic_volume      0\n",
            "temp                0\n",
            "rain_1h             0\n",
            "snow_1h           162\n",
            "clouds_all          0\n",
            "weather_main        0\n",
            "year                0\n",
            "month               0\n",
            "day                 0\n",
            "hour                0\n",
            "dayofweek           0\n",
            "is_weekend          0\n",
            "season              0\n",
            "is_holyday          0\n",
            "dtype: int64\n",
            "결측값 제거 후 데이터 크기: (48042, 14)\n",
            "전체 결측값 개수: 0\n"
          ]
        }
      ],
      "source": [
        "# 결측값 개수 확인\n",
        "print(\"결측값 확인:\")\n",
        "print(df_del.isnull().sum())\n",
        "\n",
        "# 결측값이 포함된 행 제거\n",
        "df_na = df_del.dropna()\n",
        "print(f\"결측값 제거 후 데이터 크기: {df_na.shape}\")\n",
        "\n",
        "# 전체 결측치 개수 확인\n",
        "total_na = df_na.isnull().sum().sum()\n",
        "print(f\"전체 결측값 개수: {total_na}\")"
      ]
    },
    {
      "cell_type": "code",
      "execution_count": 35,
      "metadata": {
        "id": "ajahHPfQbPjG"
      },
      "outputs": [
        {
          "name": "stdout",
          "output_type": "stream",
          "text": [
            "Sklearn 범주형 변수: ['weather_main', 'is_weekend', 'season', 'is_holyday']\n",
            "Scikit-learn 원-핫 인코딩 전\n",
            "       traffic_volume    temp  rain_1h  snow_1h  clouds_all  weather_main  \\\n",
            "0                5545  288.28      0.0      0.0          40        Clouds   \n",
            "1                4516  289.36      0.0      0.0          75        Clouds   \n",
            "2                4767  289.58      0.0      0.0          90        Clouds   \n",
            "3                5026  290.13      0.0      0.0          90        Clouds   \n",
            "4                4918  291.14      0.0      0.0          75        Clouds   \n",
            "...               ...     ...      ...      ...         ...           ...   \n",
            "48199            3543  283.45      0.0      0.0          75        Clouds   \n",
            "48200            2781  282.76      0.0      0.0          90        Clouds   \n",
            "48201            2159  282.73      0.0      0.0          90  Thunderstorm   \n",
            "48202            1450  282.09      0.0      0.0          90        Clouds   \n",
            "48203             954  282.12      0.0      0.0          90        Clouds   \n",
            "\n",
            "       year  month  day  hour  dayofweek is_weekend season is_holyday  \n",
            "0      2012     10    2     9          1          N   FALL          Y  \n",
            "1      2012     10    2    10          1          N   FALL          Y  \n",
            "2      2012     10    2    11          1          N   FALL          Y  \n",
            "3      2012     10    2    12          1          N   FALL          Y  \n",
            "4      2012     10    2    13          1          N   FALL          Y  \n",
            "...     ...    ...  ...   ...        ...        ...    ...        ...  \n",
            "48199  2018      9   30    19          6          Y   FALL          Y  \n",
            "48200  2018      9   30    20          6          Y   FALL          Y  \n",
            "48201  2018      9   30    21          6          Y   FALL          Y  \n",
            "48202  2018      9   30    22          6          Y   FALL          Y  \n",
            "48203  2018      9   30    23          6          Y   FALL          Y  \n",
            "\n",
            "[48042 rows x 14 columns]\n",
            "Sklearn: One-Hot Encoding만 후 데이터 크기: (48042, 19)\n",
            "        0    1    2    3    4    5    6    7    8    9    10   11   12   13  \\\n",
            "0      0.0  1.0  0.0  0.0  0.0  0.0  0.0  0.0  0.0  0.0  0.0  1.0  0.0  1.0   \n",
            "1      0.0  1.0  0.0  0.0  0.0  0.0  0.0  0.0  0.0  0.0  0.0  1.0  0.0  1.0   \n",
            "2      0.0  1.0  0.0  0.0  0.0  0.0  0.0  0.0  0.0  0.0  0.0  1.0  0.0  1.0   \n",
            "3      0.0  1.0  0.0  0.0  0.0  0.0  0.0  0.0  0.0  0.0  0.0  1.0  0.0  1.0   \n",
            "4      0.0  1.0  0.0  0.0  0.0  0.0  0.0  0.0  0.0  0.0  0.0  1.0  0.0  1.0   \n",
            "...    ...  ...  ...  ...  ...  ...  ...  ...  ...  ...  ...  ...  ...  ...   \n",
            "48037  0.0  1.0  0.0  0.0  0.0  0.0  0.0  0.0  0.0  0.0  0.0  0.0  1.0  1.0   \n",
            "48038  0.0  1.0  0.0  0.0  0.0  0.0  0.0  0.0  0.0  0.0  0.0  0.0  1.0  1.0   \n",
            "48039  0.0  0.0  0.0  0.0  0.0  0.0  0.0  0.0  0.0  0.0  1.0  0.0  1.0  1.0   \n",
            "48040  0.0  1.0  0.0  0.0  0.0  0.0  0.0  0.0  0.0  0.0  0.0  0.0  1.0  1.0   \n",
            "48041  0.0  1.0  0.0  0.0  0.0  0.0  0.0  0.0  0.0  0.0  0.0  0.0  1.0  1.0   \n",
            "\n",
            "        14   15   16   17   18  \n",
            "0      0.0  0.0  0.0  0.0  1.0  \n",
            "1      0.0  0.0  0.0  0.0  1.0  \n",
            "2      0.0  0.0  0.0  0.0  1.0  \n",
            "3      0.0  0.0  0.0  0.0  1.0  \n",
            "4      0.0  0.0  0.0  0.0  1.0  \n",
            "...    ...  ...  ...  ...  ...  \n",
            "48037  0.0  0.0  0.0  0.0  1.0  \n",
            "48038  0.0  0.0  0.0  0.0  1.0  \n",
            "48039  0.0  0.0  0.0  0.0  1.0  \n",
            "48040  0.0  0.0  0.0  0.0  1.0  \n",
            "48041  0.0  0.0  0.0  0.0  1.0  \n",
            "\n",
            "[48042 rows x 19 columns]\n"
          ]
        }
      ],
      "source": [
        "# Scikit-learn 활용한 원-핫 인코딩\n",
        "\n",
        "# 범주형 변수 확인\n",
        "obj_columns = df_na.dtypes[df_na.dtypes == 'object'].index\n",
        "print(f\"Sklearn 범주형 변수: {obj_columns.tolist()}\")\n",
        "\n",
        "print(\"Scikit-learn 원-핫 인코딩 전\")\n",
        "print(df_na)\n",
        "\n",
        "## One-Hot Encoding\n",
        "from sklearn.preprocessing import OneHotEncoder # 라이브러리 임포트\n",
        "\n",
        "encoder = OneHotEncoder() # 인코더 객체 불러오기\n",
        "encoded_features = encoder.fit_transform(df_na[obj_columns])\n",
        "\n",
        "# 인코딩된 데이터프레임 생성\n",
        "df_encoded = pd.DataFrame(encoded_features.toarray())\n",
        "\n",
        "# 원래 데이터프레임과 결합\n",
        "df_sklearn_encoded = pd.concat([df_na.drop(columns=obj_columns), df_encoded])\n",
        "\n",
        "print(f\"Sklearn: One-Hot Encoding 후 데이터 크기: {df_sklearn_encoded.shape}\")\n",
        "print(\"Scikit-learn 원-핫 인코딩 후\")\n",
        "print(df_sklearn_encoded)"
      ]
    },
    {
      "cell_type": "code",
      "execution_count": 22,
      "metadata": {},
      "outputs": [
        {
          "name": "stdout",
          "output_type": "stream",
          "text": [
            "Pandas 범주형 변수: ['weather_main', 'is_weekend', 'season', 'is_holyday']\n",
            "Pandas 원-핫 인코딩 전\n",
            "       traffic_volume    temp  rain_1h  snow_1h  clouds_all  weather_main  \\\n",
            "0                5545  288.28      0.0      0.0          40        Clouds   \n",
            "1                4516  289.36      0.0      0.0          75        Clouds   \n",
            "2                4767  289.58      0.0      0.0          90        Clouds   \n",
            "3                5026  290.13      0.0      0.0          90        Clouds   \n",
            "4                4918  291.14      0.0      0.0          75        Clouds   \n",
            "...               ...     ...      ...      ...         ...           ...   \n",
            "48199            3543  283.45      0.0      0.0          75        Clouds   \n",
            "48200            2781  282.76      0.0      0.0          90        Clouds   \n",
            "48201            2159  282.73      0.0      0.0          90  Thunderstorm   \n",
            "48202            1450  282.09      0.0      0.0          90        Clouds   \n",
            "48203             954  282.12      0.0      0.0          90        Clouds   \n",
            "\n",
            "       year  month  day  hour  dayofweek is_weekend season is_holyday  \n",
            "0      2012     10    2     9          1          N   FALL          Y  \n",
            "1      2012     10    2    10          1          N   FALL          Y  \n",
            "2      2012     10    2    11          1          N   FALL          Y  \n",
            "3      2012     10    2    12          1          N   FALL          Y  \n",
            "4      2012     10    2    13          1          N   FALL          Y  \n",
            "...     ...    ...  ...   ...        ...        ...    ...        ...  \n",
            "48199  2018      9   30    19          6          Y   FALL          Y  \n",
            "48200  2018      9   30    20          6          Y   FALL          Y  \n",
            "48201  2018      9   30    21          6          Y   FALL          Y  \n",
            "48202  2018      9   30    22          6          Y   FALL          Y  \n",
            "48203  2018      9   30    23          6          Y   FALL          Y  \n",
            "\n",
            "[48042 rows x 14 columns]\n",
            "Pandas: One-Hot Encoding 후 데이터 크기: (48042, 29)\n",
            "Pandas 원-핫 인코딩 후\n",
            "       traffic_volume    temp  rain_1h  snow_1h  clouds_all  year  month  day  \\\n",
            "0                5545  288.28      0.0      0.0          40  2012     10    2   \n",
            "1                4516  289.36      0.0      0.0          75  2012     10    2   \n",
            "2                4767  289.58      0.0      0.0          90  2012     10    2   \n",
            "3                5026  290.13      0.0      0.0          90  2012     10    2   \n",
            "4                4918  291.14      0.0      0.0          75  2012     10    2   \n",
            "...               ...     ...      ...      ...         ...   ...    ...  ...   \n",
            "48199            3543  283.45      0.0      0.0          75  2018      9   30   \n",
            "48200            2781  282.76      0.0      0.0          90  2018      9   30   \n",
            "48201            2159  282.73      0.0      0.0          90  2018      9   30   \n",
            "48202            1450  282.09      0.0      0.0          90  2018      9   30   \n",
            "48203             954  282.12      0.0      0.0          90  2018      9   30   \n",
            "\n",
            "       hour  dayofweek  ...  weather_main_Squall  weather_main_Thunderstorm  \\\n",
            "0         9          1  ...                    0                          0   \n",
            "1        10          1  ...                    0                          0   \n",
            "2        11          1  ...                    0                          0   \n",
            "3        12          1  ...                    0                          0   \n",
            "4        13          1  ...                    0                          0   \n",
            "...     ...        ...  ...                  ...                        ...   \n",
            "48199    19          6  ...                    0                          0   \n",
            "48200    20          6  ...                    0                          0   \n",
            "48201    21          6  ...                    0                          1   \n",
            "48202    22          6  ...                    0                          0   \n",
            "48203    23          6  ...                    0                          0   \n",
            "\n",
            "       is_weekend_N  is_weekend_Y  season_FALL  season_SPRING  season_SUMMER  \\\n",
            "0                 1             0            1              0              0   \n",
            "1                 1             0            1              0              0   \n",
            "2                 1             0            1              0              0   \n",
            "3                 1             0            1              0              0   \n",
            "4                 1             0            1              0              0   \n",
            "...             ...           ...          ...            ...            ...   \n",
            "48199             0             1            1              0              0   \n",
            "48200             0             1            1              0              0   \n",
            "48201             0             1            1              0              0   \n",
            "48202             0             1            1              0              0   \n",
            "48203             0             1            1              0              0   \n",
            "\n",
            "       season_WINTER  is_holyday_N  is_holyday_Y  \n",
            "0                  0             0             1  \n",
            "1                  0             0             1  \n",
            "2                  0             0             1  \n",
            "3                  0             0             1  \n",
            "4                  0             0             1  \n",
            "...              ...           ...           ...  \n",
            "48199              0             0             1  \n",
            "48200              0             0             1  \n",
            "48201              0             0             1  \n",
            "48202              0             0             1  \n",
            "48203              0             0             1  \n",
            "\n",
            "[48042 rows x 29 columns]\n"
          ]
        }
      ],
      "source": [
        "# Pandas를 활용한 원-핫 인코딩\n",
        "obj_columns = df_na.dtypes[df_na.dtypes == 'object'].index\n",
        "print(f\"Pandas 범주형 변수: {obj_columns.tolist()}\")\n",
        "\n",
        "print(\"Pandas 원-핫 인코딩 전\")\n",
        "print(df_na)\n",
        "\n",
        "df_pandas_encoded = pd.get_dummies(data=df_na, columns=obj_columns)\n",
        "print(f\"Pandas: One-Hot Encoding 후 데이터 크기: {df_pandas_encoded.shape}\")\n",
        "\n",
        "print(\"Pandas 원-핫 인코딩 후\")\n",
        "print(df_pandas_encoded)"
      ]
    },
    {
      "cell_type": "code",
      "execution_count": 23,
      "metadata": {},
      "outputs": [],
      "source": [
        "# 본 실습에서는 pandas를 이용해 인코딩한 결과를 사용합니다.\n",
        "df_encoded = df_pandas_encoded.copy()"
      ]
    },
    {
      "cell_type": "code",
      "execution_count": 24,
      "metadata": {},
      "outputs": [],
      "source": [
        "# X, y 분리\n",
        "X = df_encoded.drop(columns=['traffic_volume'])  \n",
        "y = df_encoded['traffic_volume']               "
      ]
    },
    {
      "cell_type": "code",
      "execution_count": 25,
      "metadata": {},
      "outputs": [
        {
          "name": "stdout",
          "output_type": "stream",
          "text": [
            "X_train 크기: (38433, 28), X_valid 크기: (9609, 28)\n",
            "y_train 크기: (38433,), y_valid 크기: (9609,)\n"
          ]
        }
      ],
      "source": [
        "# 학습데이터 분할\n",
        "from sklearn.model_selection import train_test_split\n",
        "X_train, X_valid, y_train, y_valid = train_test_split(X, y, \\\n",
        "                                        test_size=0.2, random_state=42)\n",
        "\n",
        "print(f\"X_train 크기: {X_train.shape}, X_valid 크기: {X_valid.shape}\")\n",
        "print(f\"y_train 크기: {y_train.shape}, y_valid 크기: {y_valid.shape}\")"
      ]
    },
    {
      "cell_type": "code",
      "execution_count": 26,
      "metadata": {
        "id": "RxRYTpGjbVGg"
      },
      "outputs": [
        {
          "name": "stdout",
          "output_type": "stream",
          "text": [
            "정규화 스케일링 전\n",
            "         temp  clouds_all\n",
            "46209  296.86          40\n",
            "34540  300.02          40\n",
            "16351  294.02           1\n",
            "20272  266.95          90\n",
            "36565  293.43          20\n",
            "...       ...         ...\n",
            "11321  248.15           1\n",
            "44869  291.72           1\n",
            "38283  279.08          90\n",
            "860    269.24          20\n",
            "15847  301.16          40\n",
            "\n",
            "[38433 rows x 2 columns]\n",
            "정규화 스케일링 후\n",
            "           temp  clouds_all\n",
            "46209  0.801890        0.40\n",
            "34540  0.849280        0.40\n",
            "16351  0.759298        0.01\n",
            "20272  0.353329        0.90\n",
            "36565  0.750450        0.20\n",
            "...         ...         ...\n",
            "11321  0.071386        0.01\n",
            "44869  0.724805        0.01\n",
            "38283  0.535243        0.90\n",
            "860    0.387672        0.20\n",
            "15847  0.866377        0.40\n",
            "\n",
            "[38433 rows x 2 columns]\n",
            "표준화 스케일링 전\n",
            "       rain_1h  snow_1h  year  month  day  hour  dayofweek  \\\n",
            "46209      0.0     0.00  2018      7   27    14          4   \n",
            "34540      0.0     0.00  2017      6   14    20          2   \n",
            "16351      0.0     0.00  2015      7    6    19          0   \n",
            "20272      0.0     0.13  2015     12   29     0          1   \n",
            "36565      0.0     0.00  2017      8   24    13          3   \n",
            "...        ...      ...   ...    ...  ...   ...        ...   \n",
            "11321      0.0     0.00  2014      1    8    23          2   \n",
            "44869      0.0     0.00  2018      6   11     3          0   \n",
            "38283      0.0     0.00  2017     10   24     5          1   \n",
            "860        0.0     0.00  2012     11    3     7          5   \n",
            "15847      0.0     0.00  2014      8    1    14          4   \n",
            "\n",
            "       weather_main_Clear  weather_main_Clouds  weather_main_Drizzle  ...  \\\n",
            "46209                   0                    1                     0  ...   \n",
            "34540                   0                    1                     0  ...   \n",
            "16351                   0                    0                     0  ...   \n",
            "20272                   0                    0                     0  ...   \n",
            "36565                   0                    1                     0  ...   \n",
            "...                   ...                  ...                   ...  ...   \n",
            "11321                   1                    0                     0  ...   \n",
            "44869                   1                    0                     0  ...   \n",
            "38283                   0                    1                     0  ...   \n",
            "860                     0                    1                     0  ...   \n",
            "15847                   0                    1                     0  ...   \n",
            "\n",
            "       weather_main_Squall  weather_main_Thunderstorm  is_weekend_N  \\\n",
            "46209                    0                          0             1   \n",
            "34540                    0                          0             1   \n",
            "16351                    0                          0             1   \n",
            "20272                    0                          0             1   \n",
            "36565                    0                          0             1   \n",
            "...                    ...                        ...           ...   \n",
            "11321                    0                          0             1   \n",
            "44869                    0                          0             1   \n",
            "38283                    0                          0             1   \n",
            "860                      0                          0             0   \n",
            "15847                    0                          0             1   \n",
            "\n",
            "       is_weekend_Y  season_FALL  season_SPRING  season_SUMMER  season_WINTER  \\\n",
            "46209             0            0              0              1              0   \n",
            "34540             0            0              0              1              0   \n",
            "16351             0            0              0              1              0   \n",
            "20272             0            0              0              0              1   \n",
            "36565             0            0              0              1              0   \n",
            "...             ...          ...            ...            ...            ...   \n",
            "11321             0            0              0              0              1   \n",
            "44869             0            0              0              1              0   \n",
            "38283             0            1              0              0              0   \n",
            "860               1            1              0              0              0   \n",
            "15847             0            0              0              1              0   \n",
            "\n",
            "       is_holyday_N  is_holyday_Y  \n",
            "46209             0             1  \n",
            "34540             0             1  \n",
            "16351             0             1  \n",
            "20272             0             1  \n",
            "36565             1             0  \n",
            "...             ...           ...  \n",
            "11321             0             1  \n",
            "44869             0             1  \n",
            "38283             0             1  \n",
            "860               0             1  \n",
            "15847             0             1  \n",
            "\n",
            "[38433 rows x 26 columns]\n",
            "표준화 스케일링 후\n"
          ]
        },
        {
          "name": "stdout",
          "output_type": "stream",
          "text": [
            "        rain_1h    snow_1h      year     month       day      hour  dayofweek  \\\n",
            "46209 -0.127565  -0.027761  1.316194  0.141797  1.293203  0.371388   0.511662   \n",
            "34540 -0.127565  -0.027761  0.787601 -0.151860 -0.196576  1.237229  -0.486774   \n",
            "16351 -0.127565  -0.027761 -0.269585  0.141797 -1.113363  1.092922  -1.485210   \n",
            "20272 -0.127565  15.733615 -0.269585  1.610081  1.522400 -1.648909  -0.985992   \n",
            "36565 -0.127565  -0.027761  0.787601  0.435454  0.949408  0.227081   0.012444   \n",
            "...         ...        ...       ...       ...       ...       ...        ...   \n",
            "11321 -0.127565  -0.027761 -0.798177 -1.620144 -0.884166  1.670150  -0.486774   \n",
            "44869 -0.127565  -0.027761  1.316194 -0.151860 -0.540371 -1.215988  -1.485210   \n",
            "38283 -0.127565  -0.027761  0.787601  1.022767  0.949408 -0.927375  -0.985992   \n",
            "860   -0.127565  -0.027761 -1.855363  1.316424 -1.457158 -0.638761   1.010879   \n",
            "15847 -0.127565  -0.027761 -0.798177  0.435454 -1.686355  0.371388   0.511662   \n",
            "\n",
            "       weather_main_Clear  weather_main_Clouds  weather_main_Drizzle  ...  \\\n",
            "46209           -0.620703             1.468841             -0.198575  ...   \n",
            "34540           -0.620703             1.468841             -0.198575  ...   \n",
            "16351           -0.620703            -0.680809             -0.198575  ...   \n",
            "20272           -0.620703            -0.680809             -0.198575  ...   \n",
            "36565           -0.620703             1.468841             -0.198575  ...   \n",
            "...                   ...                  ...                   ...  ...   \n",
            "11321            1.611076            -0.680809             -0.198575  ...   \n",
            "44869            1.611076            -0.680809             -0.198575  ...   \n",
            "38283           -0.620703             1.468841             -0.198575  ...   \n",
            "860             -0.620703             1.468841             -0.198575  ...   \n",
            "15847           -0.620703             1.468841             -0.198575  ...   \n",
            "\n",
            "       weather_main_Squall  weather_main_Thunderstorm  is_weekend_N  \\\n",
            "46209            -0.007214                  -0.147375      0.627102   \n",
            "34540            -0.007214                  -0.147375      0.627102   \n",
            "16351            -0.007214                  -0.147375      0.627102   \n",
            "20272            -0.007214                  -0.147375      0.627102   \n",
            "36565            -0.007214                  -0.147375      0.627102   \n",
            "...                    ...                        ...           ...   \n",
            "11321            -0.007214                  -0.147375      0.627102   \n",
            "44869            -0.007214                  -0.147375      0.627102   \n",
            "38283            -0.007214                  -0.147375      0.627102   \n",
            "860              -0.007214                  -0.147375     -1.594636   \n",
            "15847            -0.007214                  -0.147375      0.627102   \n",
            "\n",
            "       is_weekend_Y  season_FALL  season_SPRING  season_SUMMER  season_WINTER  \\\n",
            "46209     -0.627102    -0.545307      -0.592766       1.659615      -0.568767   \n",
            "34540     -0.627102    -0.545307      -0.592766       1.659615      -0.568767   \n",
            "16351     -0.627102    -0.545307      -0.592766       1.659615      -0.568767   \n",
            "20272     -0.627102    -0.545307      -0.592766      -0.602549       1.758189   \n",
            "36565     -0.627102    -0.545307      -0.592766       1.659615      -0.568767   \n",
            "...             ...          ...            ...            ...            ...   \n",
            "11321     -0.627102    -0.545307      -0.592766      -0.602549       1.758189   \n",
            "44869     -0.627102    -0.545307      -0.592766       1.659615      -0.568767   \n",
            "38283     -0.627102     1.833828      -0.592766      -0.602549      -0.568767   \n",
            "860        1.594636     1.833828      -0.592766      -0.602549      -0.568767   \n",
            "15847     -0.627102    -0.545307      -0.592766       1.659615      -0.568767   \n",
            "\n",
            "       is_holyday_N  is_holyday_Y  \n",
            "46209     -0.173809      0.173809  \n",
            "34540     -0.173809      0.173809  \n",
            "16351     -0.173809      0.173809  \n",
            "20272     -0.173809      0.173809  \n",
            "36565      5.753437     -5.753437  \n",
            "...             ...           ...  \n",
            "11321     -0.173809      0.173809  \n",
            "44869     -0.173809      0.173809  \n",
            "38283     -0.173809      0.173809  \n",
            "860       -0.173809      0.173809  \n",
            "15847     -0.173809      0.173809  \n",
            "\n",
            "[38433 rows x 26 columns]\n"
          ]
        }
      ],
      "source": [
        "## Min-Max & Standard Scaling\n",
        "# 라이브러리 임포트\n",
        "from sklearn.preprocessing import MinMaxScaler, StandardScaler\n",
        "\n",
        "print(\"정규화 스케일링 전\")\n",
        "print(X_train[['temp','clouds_all']])\n",
        "\n",
        "# 정규화 스케일러 객체 불러오기\n",
        "ms = MinMaxScaler()\n",
        "X_train[['temp','clouds_all']] = ms.fit_transform(X_train[['temp','clouds_all']])\n",
        "X_valid[['temp','clouds_all']] = ms.transform(X_valid[['temp','clouds_all']])\n",
        "\n",
        "print(\"정규화 스케일링 후\")\n",
        "print(X_train[['temp','clouds_all']])\n",
        "\n",
        "\n",
        "print(\"표준화 스케일링 전\")\n",
        "left_cols = X_train.columns.tolist()\n",
        "left_cols.remove('temp')\n",
        "left_cols.remove('clouds_all')\n",
        "print(X_train[left_cols])\n",
        "\n",
        "# 표준화 스케일러 객체 불러오기\n",
        "ss = StandardScaler()\n",
        "X_train[left_cols] = ss.fit_transform(X_train[left_cols])\n",
        "X_valid[left_cols] = ss.transform(X_valid[left_cols])\n",
        "\n",
        "print(\"표준화 스케일링 후\")\n",
        "print(X_train[left_cols])"
      ]
    },
    {
      "cell_type": "markdown",
      "metadata": {},
      "source": [
        "### 머신러닝 모델링"
      ]
    },
    {
      "cell_type": "code",
      "execution_count": 27,
      "metadata": {},
      "outputs": [
        {
          "name": "stdout",
          "output_type": "stream",
          "text": [
            "Requirement already satisfied: lightgbm in /home/iknow/anaconda3/envs/tf-gpu-cuda8/lib/python3.7/site-packages (4.5.0)\n",
            "Requirement already satisfied: numpy>=1.17.0 in /home/iknow/anaconda3/envs/tf-gpu-cuda8/lib/python3.7/site-packages (from lightgbm) (1.21.5)\n",
            "Requirement already satisfied: scipy in /home/wooyeon/.local/lib/python3.7/site-packages (from lightgbm) (1.4.1)\n"
          ]
        }
      ],
      "source": [
        "! pip install lightgbm"
      ]
    },
    {
      "cell_type": "code",
      "execution_count": 28,
      "metadata": {},
      "outputs": [
        {
          "name": "stdout",
          "output_type": "stream",
          "text": [
            "Index(['temp', 'rain_1h', 'snow_1h', 'clouds_all', 'year', 'month', 'day',\n",
            "       'hour', 'dayofweek', 'weather_main_Clear', 'weather_main_Clouds',\n",
            "       'weather_main_Drizzle', 'weather_main_Fog', 'weather_main_Haze',\n",
            "       'weather_main_Mist', 'weather_main_Rain', 'weather_main_Smoke',\n",
            "       'weather_main_Snow', 'weather_main_Squall', 'weather_main_Thunderstorm',\n",
            "       'is_weekend_N', 'is_weekend_Y', 'season_FALL', 'season_SPRING',\n",
            "       'season_SUMMER', 'season_WINTER', 'is_holyday_N', 'is_holyday_Y'],\n",
            "      dtype='object')\n"
          ]
        }
      ],
      "source": [
        "print(X_train.columns)"
      ]
    },
    {
      "cell_type": "code",
      "execution_count": 29,
      "metadata": {
        "colab": {
          "base_uri": "https://localhost:8080/"
        },
        "id": "X8Ivce8lbc3H",
        "outputId": "8e3168b7-dc04-4a5d-d07d-ac314596d135"
      },
      "outputs": [
        {
          "name": "stdout",
          "output_type": "stream",
          "text": [
            "[LightGBM] [Info] Auto-choosing row-wise multi-threading, the overhead of testing was 0.002379 seconds.\n",
            "You can set `force_row_wise=true` to remove the overhead.\n",
            "And if memory is not enough, you can set `force_col_wise=true`.\n",
            "[LightGBM] [Info] Total Bins 683\n",
            "[LightGBM] [Info] Number of data points in the train set: 38433, number of used features: 26\n",
            "[LightGBM] [Info] Start training from score 3278.210080\n"
          ]
        }
      ],
      "source": [
        "from sklearn.linear_model import LinearRegression\n",
        "from sklearn.tree import DecisionTreeRegressor\n",
        "from sklearn.ensemble import RandomForestRegressor\n",
        "from sklearn.ensemble import GradientBoostingRegressor\n",
        "from sklearn.ensemble import ExtraTreesRegressor\n",
        "from xgboost import XGBRegressor\n",
        "from lightgbm import LGBMRegressor\n",
        "\n",
        "# 모델 정의\n",
        "lr = LinearRegression(n_jobs=-1)\n",
        "dt = DecisionTreeRegressor(random_state=42)\n",
        "rf = RandomForestRegressor(random_state=42, n_jobs=-1)\n",
        "gbr = GradientBoostingRegressor(random_state=42,)\n",
        "etr = ExtraTreesRegressor(random_state=42, n_jobs=-1)\n",
        "xgb = XGBRegressor(random_state=42, n_jobs=-1)\n",
        "lgbm = LGBMRegressor(random_state=42, n_jobs=-1)\n",
        "\n",
        "# 모델 학습\n",
        "models = [lr, dt, rf, gbr, etr, xgb, lgbm]\n",
        "for model in models:\n",
        "  model.fit(X_train, y_train)"
      ]
    },
    {
      "cell_type": "code",
      "execution_count": 30,
      "metadata": {
        "id": "FLy9fw5Cbfjw"
      },
      "outputs": [
        {
          "data": {
            "text/html": [
              "<div>\n",
              "<style scoped>\n",
              "    .dataframe tbody tr th:only-of-type {\n",
              "        vertical-align: middle;\n",
              "    }\n",
              "\n",
              "    .dataframe tbody tr th {\n",
              "        vertical-align: top;\n",
              "    }\n",
              "\n",
              "    .dataframe thead th {\n",
              "        text-align: right;\n",
              "    }\n",
              "</style>\n",
              "<table border=\"1\" class=\"dataframe\">\n",
              "  <thead>\n",
              "    <tr style=\"text-align: right;\">\n",
              "      <th></th>\n",
              "      <th>lr</th>\n",
              "      <th>dtr</th>\n",
              "      <th>rfr</th>\n",
              "      <th>gbr</th>\n",
              "      <th>xgbr</th>\n",
              "      <th>etr</th>\n",
              "      <th>lgbmr</th>\n",
              "    </tr>\n",
              "  </thead>\n",
              "  <tbody>\n",
              "    <tr>\n",
              "      <th>r2</th>\n",
              "      <td>-0.200144</td>\n",
              "      <td>0.951119</td>\n",
              "      <td>0.972188</td>\n",
              "      <td>0.915268</td>\n",
              "      <td>0.974545</td>\n",
              "      <td>0.969113</td>\n",
              "      <td>0.971569</td>\n",
              "    </tr>\n",
              "    <tr>\n",
              "      <th>rmse</th>\n",
              "      <td>3904.987840</td>\n",
              "      <td>440.096523</td>\n",
              "      <td>326.003567</td>\n",
              "      <td>542.065141</td>\n",
              "      <td>312.319515</td>\n",
              "      <td>344.306814</td>\n",
              "      <td>327.397048</td>\n",
              "    </tr>\n",
              "  </tbody>\n",
              "</table>\n",
              "</div>"
            ],
            "text/plain": [
              "               lr         dtr         rfr         gbr        xgbr         etr  \\\n",
              "r2      -0.200144    0.951119    0.972188    0.915268    0.974545    0.969113   \n",
              "rmse  3904.987840  440.096523  326.003567  542.065141  312.319515  344.306814   \n",
              "\n",
              "           lgbmr  \n",
              "r2      0.971569  \n",
              "rmse  327.397048  "
            ]
          },
          "execution_count": 30,
          "metadata": {},
          "output_type": "execute_result"
        }
      ],
      "source": [
        "from sklearn.metrics import r2_score, mean_squared_error\n",
        "\n",
        "columns=[\"lr\", \"dt\", \"rf\", \"gbr\", \"etr\", \"xgb\",\"lgbm\"]\n",
        "index=[\"r2\", \"rmse\"]\n",
        "\n",
        "r2_scores = []\n",
        "rmses = []\n",
        "\n",
        "# 예측 및 모델 평가\n",
        "models = [lr, dt, rf, gbr, etr, xgb, lgbm]\n",
        "for model in models:\n",
        "  pred_y = model.predict(X_valid)\n",
        "  r2_scores.append(r2_score(pred_y, y_valid))\n",
        "  rmses.append(mean_squared_error(pred_y, y_valid,squared=False))\n",
        "\n",
        "data = pd.DataFrame([r2_scores, rmses], columns=columns, index=index)\n",
        "data\n"
      ]
    },
    {
      "cell_type": "code",
      "execution_count": 31,
      "metadata": {
        "id": "bN2ajJPxbjPy"
      },
      "outputs": [],
      "source": [
        "# 하이퍼파라미터 튜닝\n",
        "from sklearn.model_selection import GridSearchCV\n",
        "\n",
        "# 하이퍼파라미터 후보\n",
        "parameters = {'n_estimators' : [500,1000],\n",
        "              'min_samples_split' : [2,5],\n",
        "              'max_depth' : [20,30]}\n",
        "\n",
        "# GridSearchCV 객체 불러오기\n",
        "cv = GridSearchCV(estimator=rf, param_grid=parameters,  cv=2)\n",
        "# Grid Search 수행\n",
        "cv.fit(X_train, y_train)"
      ]
    },
    {
      "cell_type": "code",
      "execution_count": 32,
      "metadata": {
        "id": "hJtPBu06KEes"
      },
      "outputs": [],
      "source": [
        "# 최적의 하이퍼파라미터 및 모델 성능 확인\n",
        "print(cv.best_params_)\n",
        "print(cv.best_score_)\n",
        "\n",
        "# 최적의 하이퍼파라미터로 모델 재학습\n",
        "best_model = RandomForestRegressor(random_state=42, n_jobs=-1, max_depth=30, \\\n",
        "                              min_samples_split=2, n_estimators=1000)\n",
        "best_model.fit(X_train, y_train)\n",
        "pred_y = best_model.predict(X_valid)\n",
        "rmse = mean_squared_error(pred_y, y_valid,squared=False)\n",
        "r2 = r2_score(pred_y, y_valid)\n",
        "print(rmse,r2)"
      ]
    },
    {
      "cell_type": "markdown",
      "metadata": {},
      "source": [
        "### 딥러닝 모델링"
      ]
    },
    {
      "cell_type": "code",
      "execution_count": 33,
      "metadata": {
        "colab": {
          "base_uri": "https://localhost:8080/",
          "height": 668
        },
        "id": "f3VeIqeXb-FO",
        "outputId": "17fcc761-749f-4488-aafd-26cd58a2be36"
      },
      "outputs": [
        {
          "name": "stderr",
          "output_type": "stream",
          "text": [
            "2025-01-09 19:01:11.711380: W tensorflow/stream_executor/platform/default/dso_loader.cc:55] Could not load dynamic library 'libnvinfer.so.6'; dlerror: libnvinfer.so.6: cannot open shared object file: No such file or directory; LD_LIBRARY_PATH: /usr/local/cuda-11.6/lib64:/usr/local/cuda-11.6/lib64:\n",
            "2025-01-09 19:01:11.711456: W tensorflow/stream_executor/platform/default/dso_loader.cc:55] Could not load dynamic library 'libnvinfer_plugin.so.6'; dlerror: libnvinfer_plugin.so.6: cannot open shared object file: No such file or directory; LD_LIBRARY_PATH: /usr/local/cuda-11.6/lib64:/usr/local/cuda-11.6/lib64:\n",
            "2025-01-09 19:01:11.711468: W tensorflow/compiler/tf2tensorrt/utils/py_utils.cc:30] Cannot dlopen some TensorRT libraries. If you would like to use Nvidia GPU with TensorRT, please make sure the missing libraries mentioned above are installed properly.\n",
            "2025-01-09 19:01:12.130759: I tensorflow/stream_executor/platform/default/dso_loader.cc:44] Successfully opened dynamic library libcuda.so.1\n",
            "2025-01-09 19:01:12.134324: I tensorflow/core/common_runtime/gpu/gpu_device.cc:1555] Found device 0 with properties: \n",
            "pciBusID: 0000:17:00.0 name: NVIDIA RTX A5000 computeCapability: 8.6\n",
            "coreClock: 1.695GHz coreCount: 64 deviceMemorySize: 23.58GiB deviceMemoryBandwidth: 715.34GiB/s\n",
            "2025-01-09 19:01:12.138916: I tensorflow/core/common_runtime/gpu/gpu_device.cc:1555] Found device 1 with properties: \n",
            "pciBusID: 0000:b3:00.0 name: NVIDIA RTX A5000 computeCapability: 8.6\n",
            "coreClock: 1.695GHz coreCount: 64 deviceMemorySize: 23.57GiB deviceMemoryBandwidth: 715.34GiB/s\n",
            "2025-01-09 19:01:12.139037: W tensorflow/stream_executor/platform/default/dso_loader.cc:55] Could not load dynamic library 'libcudart.so.10.1'; dlerror: libcudart.so.10.1: cannot open shared object file: No such file or directory; LD_LIBRARY_PATH: /usr/local/cuda-11.6/lib64:/usr/local/cuda-11.6/lib64:\n",
            "2025-01-09 19:01:12.139097: W tensorflow/stream_executor/platform/default/dso_loader.cc:55] Could not load dynamic library 'libcublas.so.10'; dlerror: libcublas.so.10: cannot open shared object file: No such file or directory; LD_LIBRARY_PATH: /usr/local/cuda-11.6/lib64:/usr/local/cuda-11.6/lib64:\n",
            "2025-01-09 19:01:12.162256: I tensorflow/stream_executor/platform/default/dso_loader.cc:44] Successfully opened dynamic library libcufft.so.10\n",
            "2025-01-09 19:01:12.162589: I tensorflow/stream_executor/platform/default/dso_loader.cc:44] Successfully opened dynamic library libcurand.so.10\n",
            "2025-01-09 19:01:12.162688: W tensorflow/stream_executor/platform/default/dso_loader.cc:55] Could not load dynamic library 'libcusolver.so.10'; dlerror: libcusolver.so.10: cannot open shared object file: No such file or directory; LD_LIBRARY_PATH: /usr/local/cuda-11.6/lib64:/usr/local/cuda-11.6/lib64:\n",
            "2025-01-09 19:01:12.162744: W tensorflow/stream_executor/platform/default/dso_loader.cc:55] Could not load dynamic library 'libcusparse.so.10'; dlerror: libcusparse.so.10: cannot open shared object file: No such file or directory; LD_LIBRARY_PATH: /usr/local/cuda-11.6/lib64:/usr/local/cuda-11.6/lib64:\n",
            "2025-01-09 19:01:12.165456: I tensorflow/stream_executor/platform/default/dso_loader.cc:44] Successfully opened dynamic library libcudnn.so.7\n",
            "2025-01-09 19:01:12.165472: W tensorflow/core/common_runtime/gpu/gpu_device.cc:1592] Cannot dlopen some GPU libraries. Please make sure the missing libraries mentioned above are installed properly if you would like to use GPU. Follow the guide at https://www.tensorflow.org/install/gpu for how to download and setup the required libraries for your platform.\n",
            "Skipping registering GPU devices...\n",
            "2025-01-09 19:01:12.165741: I tensorflow/core/platform/cpu_feature_guard.cc:142] Your CPU supports instructions that this TensorFlow binary was not compiled to use: AVX2 AVX512F FMA\n",
            "2025-01-09 19:01:12.170942: I tensorflow/core/platform/profile_utils/cpu_utils.cc:94] CPU Frequency: 3200000000 Hz\n",
            "2025-01-09 19:01:12.171997: I tensorflow/compiler/xla/service/service.cc:168] XLA service 0x5c8cf1179980 initialized for platform Host (this does not guarantee that XLA will be used). Devices:\n",
            "2025-01-09 19:01:12.172015: I tensorflow/compiler/xla/service/service.cc:176]   StreamExecutor device (0): Host, Default Version\n",
            "2025-01-09 19:01:12.384586: I tensorflow/compiler/xla/service/service.cc:168] XLA service 0x5c8cf0feeb00 initialized for platform CUDA (this does not guarantee that XLA will be used). Devices:\n",
            "2025-01-09 19:01:12.384669: I tensorflow/compiler/xla/service/service.cc:176]   StreamExecutor device (0): NVIDIA RTX A5000, Compute Capability 8.6\n",
            "2025-01-09 19:01:12.384692: I tensorflow/compiler/xla/service/service.cc:176]   StreamExecutor device (1): NVIDIA RTX A5000, Compute Capability 8.6\n",
            "2025-01-09 19:01:12.385107: I tensorflow/core/common_runtime/gpu/gpu_device.cc:1096] Device interconnect StreamExecutor with strength 1 edge matrix:\n",
            "2025-01-09 19:01:12.385130: I tensorflow/core/common_runtime/gpu/gpu_device.cc:1102]      \n"
          ]
        },
        {
          "name": "stdout",
          "output_type": "stream",
          "text": [
            "Model: \"sequential\"\n",
            "_________________________________________________________________\n",
            "Layer (type)                 Output Shape              Param #   \n",
            "=================================================================\n",
            "dense (Dense)                (None, 64)                1856      \n",
            "_________________________________________________________________\n",
            "dense_1 (Dense)              (None, 32)                2080      \n",
            "_________________________________________________________________\n",
            "dropout (Dropout)            (None, 32)                0         \n",
            "_________________________________________________________________\n",
            "dense_2 (Dense)              (None, 1)                 33        \n",
            "=================================================================\n",
            "Total params: 3,969\n",
            "Trainable params: 3,969\n",
            "Non-trainable params: 0\n",
            "_________________________________________________________________\n",
            "Train on 38433 samples, validate on 9609 samples\n",
            "Epoch 1/10\n",
            "38433/38433 [==============================] - 7s 176us/sample - loss: 5215314.2820 - mae: 1874.3707 - mse: 5215313.0000 - val_loss: 40846040.5096 - val_mae: 1643.3737 - val_mse: 40846076.0000\n",
            "Epoch 2/10\n",
            "38433/38433 [==============================] - 7s 175us/sample - loss: 3398260.6010 - mae: 1598.8522 - mse: 3398261.0000 - val_loss: 29723081.6397 - val_mae: 1627.4299 - val_mse: 29723090.0000\n",
            "Epoch 3/10\n",
            "38433/38433 [==============================] - 7s 175us/sample - loss: 3338338.8832 - mae: 1582.1927 - mse: 3338338.0000 - val_loss: 15024991.1922 - val_mae: 1603.2203 - val_mse: 15024986.0000\n",
            "Epoch 4/10\n",
            "38433/38433 [==============================] - 7s 176us/sample - loss: 3255371.9357 - mae: 1557.2153 - mse: 3255367.5000 - val_loss: 10998045.7721 - val_mae: 1517.4673 - val_mse: 10998045.0000\n",
            "Epoch 5/10\n",
            "38433/38433 [==============================] - 7s 170us/sample - loss: 2719703.8248 - mae: 1384.6653 - mse: 2719706.0000 - val_loss: 4730698.1302 - val_mae: 1215.1609 - val_mse: 4730696.5000\n",
            "Epoch 6/10\n",
            "38433/38433 [==============================] - 7s 175us/sample - loss: 2004131.2106 - mae: 1144.3383 - mse: 2004133.2500 - val_loss: 3535294.2946 - val_mae: 941.4062 - val_mse: 3535295.0000\n",
            "Epoch 7/10\n",
            "38433/38433 [==============================] - 7s 173us/sample - loss: 1613662.0077 - mae: 1012.2144 - mse: 1613661.2500 - val_loss: 7213415.6760 - val_mae: 806.6677 - val_mse: 7213421.5000\n",
            "Epoch 8/10\n",
            "38433/38433 [==============================] - 6s 167us/sample - loss: 1379328.3546 - mae: 931.2344 - mse: 1379327.6250 - val_loss: 5547889.3543 - val_mae: 728.9610 - val_mse: 5547887.0000\n",
            "Epoch 9/10\n",
            "38433/38433 [==============================] - 7s 172us/sample - loss: 1264800.5494 - mae: 887.7357 - mse: 1264800.5000 - val_loss: 4431159.5227 - val_mae: 669.7292 - val_mse: 4431159.5000\n",
            "9609/9609 [==============================] - 0s 40us/sample - loss: 3535294.2754 - mae: 941.4063 - mse: 3535295.2500\n",
            "딥러닝 모델 성능: 3535295.2\n"
          ]
        }
      ],
      "source": [
        "import tensorflow as tf\n",
        "from tensorflow.keras.models import Sequential, load_model\n",
        "from tensorflow.keras.layers import Dense, Activation\n",
        "from tensorflow.keras.layers import Dropout, BatchNormalization\n",
        "from tensorflow.keras.callbacks import EarlyStopping, ModelCheckpoint\n",
        "from tensorflow.keras.utils import to_categorical\n",
        "\n",
        "tf.random.set_seed(1)\n",
        "\n",
        "# 딥러닝 모델 생성\n",
        "model = Sequential()\n",
        "model.add(Dense(units=64, activation='relu', \\\n",
        "                        input_shape=(X_train.shape[1],)))\n",
        "model.add(Dense(units=32, activation='relu'))\n",
        "model.add(Dropout(0.2))\n",
        "model.add(Dense(1))\n",
        "model.summary()\n",
        "\n",
        "# 모델 컴파일\n",
        "model.compile(optimizer='adam', loss='mse', metrics=['mae','mse'])\n",
        "\n",
        "# 콜백 함수 설정\n",
        "early_stopping = EarlyStopping(monitor='val_loss', patience=10, \\\n",
        "                                           restore_best_weights=True)\n",
        "model_checkpoint = ModelCheckpoint('best_model.h5', \\\n",
        "                                monitor='val_loss', save_best_only=True)\n",
        "\n",
        "# 모델 학습\n",
        "history = model.fit(\n",
        "    X_train, y_train, \n",
        "    validation_data=(X_valid, y_valid),\n",
        "    epochs=50, batch_size=16,\n",
        "    callbacks = [early_stopping, model_checkpoint],\n",
        "    verbose=1)\n",
        "\n",
        "# 모델 평가\n",
        "loss, mae, mse = model.evaluate(X_valid, y_valid)\n",
        "print(\"딥러닝 모델 성능:\", mse)"
      ]
    },
    {
      "cell_type": "code",
      "execution_count": 34,
      "metadata": {
        "colab": {
          "base_uri": "https://localhost:8080/",
          "height": 1000
        },
        "id": "493hoG4tcAVD",
        "outputId": "a47aa07b-7aa7-4fe6-caa2-f45af55d811f"
      },
      "outputs": [
        {
          "data": {
            "image/png": "[encoded data removed]",
            "text/plain": [
              "<Figure size 864x360 with 2 Axes>"
            ]
          },
          "metadata": {
            "needs_background": "light"
          },
          "output_type": "display_data"
        }
      ],
      "source": [
        "# 학습 그래프 그리기\n",
        "plt.figure(figsize=(12, 5))\n",
        "\n",
        "# Loss 그래프\n",
        "plt.subplot(1, 2, 1)\n",
        "plt.plot(history.history['loss'], label='Train Loss')\n",
        "plt.plot(history.history['val_loss'], label='Validation Loss')\n",
        "plt.title('Loss Graph')\n",
        "plt.xlabel('Epochs')\n",
        "plt.ylabel('Loss')\n",
        "plt.legend()\n",
        "\n",
        "# MSE 그래프\n",
        "plt.subplot(1, 2, 2)\n",
        "plt.plot(history.history['mae'], label='mae')\n",
        "plt.plot(history.history['val_mae'], label='val_mae')\n",
        "plt.title('MAE Graph')\n",
        "plt.xlabel('Epochs')\n",
        "plt.ylabel('MAE')\n",
        "plt.legend()\n",
        "\n",
        "plt.tight_layout()\n",
        "plt.show()\n"
      ]
    },
    {
      "cell_type": "code",
      "execution_count": null,
      "metadata": {},
      "outputs": [],
      "source": []
    },
    {
      "cell_type": "code",
      "execution_count": null,
      "metadata": {},
      "outputs": [],
      "source": []
    },
    {
      "cell_type": "code",
      "execution_count": null,
      "metadata": {},
      "outputs": [],
      "source": []
    },
    {
      "cell_type": "code",
      "execution_count": null,
      "metadata": {},
      "outputs": [],
      "source": []
    },
    {
      "cell_type": "code",
      "execution_count": null,
      "metadata": {},
      "outputs": [],
      "source": []
    },
    {
      "cell_type": "code",
      "execution_count": null,
      "metadata": {},
      "outputs": [],
      "source": []
    },
    {
      "cell_type": "code",
      "execution_count": null,
      "metadata": {},
      "outputs": [],
      "source": []
    },
    {
      "cell_type": "code",
      "execution_count": null,
      "metadata": {},
      "outputs": [],
      "source": []
    },
    {
      "cell_type": "code",
      "execution_count": null,
      "metadata": {},
      "outputs": [],
      "source": []
    },
    {
      "cell_type": "code",
      "execution_count": null,
      "metadata": {},
      "outputs": [],
      "source": []
    },
    {
      "cell_type": "code",
      "execution_count": null,
      "metadata": {},
      "outputs": [],
      "source": []
    },
    {
      "cell_type": "code",
      "execution_count": null,
      "metadata": {},
      "outputs": [],
      "source": []
    },
    {
      "cell_type": "code",
      "execution_count": null,
      "metadata": {},
      "outputs": [],
      "source": []
    },
    {
      "cell_type": "code",
      "execution_count": null,
      "metadata": {},
      "outputs": [],
      "source": []
    },
    {
      "cell_type": "code",
      "execution_count": null,
      "metadata": {},
      "outputs": [],
      "source": []
    },
    {
      "cell_type": "code",
      "execution_count": null,
      "metadata": {},
      "outputs": [],
      "source": []
    },
    {
      "cell_type": "code",
      "execution_count": null,
      "metadata": {},
      "outputs": [],
      "source": []
    },
    {
      "cell_type": "code",
      "execution_count": null,
      "metadata": {},
      "outputs": [],
      "source": []
    },
    {
      "cell_type": "code",
      "execution_count": null,
      "metadata": {},
      "outputs": [],
      "source": []
    },
    {
      "cell_type": "code",
      "execution_count": null,
      "metadata": {},
      "outputs": [],
      "source": []
    },
    {
      "cell_type": "code",
      "execution_count": null,
      "metadata": {},
      "outputs": [],
      "source": []
    },
    {
      "cell_type": "code",
      "execution_count": null,
      "metadata": {},
      "outputs": [],
      "source": []
    },
    {
      "cell_type": "code",
      "execution_count": null,
      "metadata": {},
      "outputs": [],
      "source": []
    },
    {
      "cell_type": "code",
      "execution_count": null,
      "metadata": {},
      "outputs": [],
      "source": []
    },
    {
      "cell_type": "code",
      "execution_count": null,
      "metadata": {},
      "outputs": [],
      "source": []
    }
  ],
  "metadata": {
    "accelerator": "GPU",
    "colab": {
      "gpuType": "T4",
      "provenance": []
    },
    "kernelspec": {
      "display_name": "Python 3",
      "name": "python3"
    },
    "language_info": {
      "codemirror_mode": {
        "name": "ipython",
        "version": 3
      },
      "file_extension": ".py",
      "mimetype": "text/x-python",
      "name": "python",
      "nbconvert_exporter": "python",
      "pygments_lexer": "ipython3",
      "version": "3.7.13"
    }
  },
  "nbformat": 4,
  "nbformat_minor": 0
}
